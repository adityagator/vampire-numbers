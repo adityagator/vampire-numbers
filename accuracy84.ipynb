{
  "nbformat": 4,
  "nbformat_minor": 0,
  "metadata": {
    "colab": {
      "name": "accuracy84.ipynb",
      "provenance": [],
      "collapsed_sections": [],
      "include_colab_link": true
    },
    "kernelspec": {
      "name": "python3",
      "display_name": "Python 3"
    },
    "accelerator": "GPU"
  },
  "cells": [
    {
      "cell_type": "markdown",
      "metadata": {
        "id": "view-in-github",
        "colab_type": "text"
      },
      "source": [
        "<a href=\"https://colab.research.google.com/github/adityagator/vampire-numbers/blob/master/accuracy84.ipynb\" target=\"_parent\"><img src=\"https://colab.research.google.com/assets/colab-badge.svg\" alt=\"Open In Colab\"/></a>"
      ]
    },
    {
      "cell_type": "code",
      "metadata": {
        "id": "hT6Lltb6bn1A",
        "colab": {
          "base_uri": "https://localhost:8080/"
        },
        "outputId": "07acb956-fa7b-46d9-f43a-3570c6e78ce5"
      },
      "source": [
        "from google.colab import drive\n",
        "drive.mount('/content/drive')"
      ],
      "execution_count": 1,
      "outputs": [
        {
          "output_type": "stream",
          "text": [
            "Mounted at /content/drive\n"
          ],
          "name": "stdout"
        }
      ]
    },
    {
      "cell_type": "code",
      "metadata": {
        "id": "Gj8DQ85Ptksc"
      },
      "source": [
        "import numpy as np \n",
        "import matplotlib.pyplot as plt\n",
        "from sklearn.model_selection import train_test_split\n",
        "import math\n",
        "from skimage.feature import hog\n",
        "import pickle\n",
        "import glob\n",
        "import numpy as np\n",
        "from PIL import Image\n",
        "import cv2\n",
        "from matplotlib.pyplot import *\n",
        "import random\n",
        "from sklearn import datasets\n",
        "from sklearn.naive_bayes import MultinomialNB\n",
        "from sklearn.model_selection import train_test_split\n",
        "from sklearn.model_selection import KFold\n",
        "from sklearn.model_selection import cross_val_score\n",
        "from sklearn.discriminant_analysis import LinearDiscriminantAnalysis\n",
        "from sklearn.discriminant_analysis import QuadraticDiscriminantAnalysis\n",
        "from sklearn.metrics import plot_confusion_matrix\n",
        "from sklearn.metrics import confusion_matrix\n",
        "from torch import nn, optim\n",
        "from sklearn.utils import shuffle\n",
        "import torch"
      ],
      "execution_count": 2,
      "outputs": []
    },
    {
      "cell_type": "markdown",
      "metadata": {
        "id": "RcHa8kwhO_wg"
      },
      "source": [
        ""
      ]
    },
    {
      "cell_type": "code",
      "metadata": {
        "id": "N6OBcEoxPDco"
      },
      "source": [
        "import torch.nn as nn\n",
        "class SubClassModel(nn.Module):\n",
        "    def __init__(self):\n",
        "        super().__init__()\n",
        "        # convolution\n",
        "        # 32 X 32\n",
        "        self.conv1 = nn.Conv2d(1,3,11)\n",
        "        self.relu1 = nn.ReLU()     \n",
        "        self.pool1 = nn.MaxPool2d(2)\n",
        "        self.batchNorm1 = nn.BatchNorm2d(3) \n",
        "        self.dropOut1 = nn.Dropout(p=0.1)\n",
        "        \n",
        "        self.conv2 = nn.Conv2d(3,3,26)\n",
        "        self.relu2 = nn.ReLU()\n",
        "#         self.pool2 = nn.MaxPool2d(2)\n",
        "        self.batchNorm2 = nn.BatchNorm2d(3) \n",
        "\n",
        "        self.conv3 = nn.Conv2d(3,3,21)\n",
        "        self.relu3 = nn.ReLU()\n",
        "        self.pool3 = nn.MaxPool2d(2)\n",
        "        self.batchNorm3 = nn.BatchNorm2d(3) \n",
        "        self.dropOut3 = nn.Dropout(p=0.1) \n",
        "        \n",
        "        self.conv4 = nn.Conv2d(3,1,10) \n",
        "        self.relu4 = nn.ReLU()\n",
        "        self.pool4 = nn.MaxPool2d(2)\n",
        "        self.batchNorm4 = nn.BatchNorm2d(1) \n",
        "        \n",
        "#         self.conv5 = nn.Conv2d(3,3,21) \n",
        "#         self.relu5 = nn.ReLU()\n",
        "# #         self.pool5 = nn.MaxPool2d(2)\n",
        "#         self.batchNorm5 = nn.BatchNorm2d(3) \n",
        "        \n",
        "        # self.conv6 = nn.Conv2d(3,1,10) \n",
        "        # self.relu6 = nn.ReLU()\n",
        "        # self.pool6 = nn.MaxPool2d(2)\n",
        "#         self.batchNorm6 = nn.BatchNorm2d(3) \n",
        "        \n",
        "        self.fc1 = nn.Linear(1*8*8, 3, bias=True)\n",
        "        \n",
        "        self.outFn = nn.Softmax(dim=1)\n",
        "        \n",
        "        \n",
        "    \n",
        "    def forward(self,x):\n",
        "        # print(\"Before conv: \", x.shape)\n",
        "        x = self.conv1(x)\n",
        "        x = self.relu1(x)\n",
        "        # print(\"Conv1: \", x.shape)\n",
        "        x = self.pool1(x)\n",
        "        # print(\"pool: \", x.shape)\n",
        "        x = self.batchNorm1(x)\n",
        "        x = self.dropOut1(x)\n",
        "\n",
        "        # print(\"bNorm1: \", x.shape)\n",
        "        x = self.conv2(x)\n",
        "        x = self.relu2(x)\n",
        "        # x = self.pool2(x)\n",
        "        x = self.batchNorm1(x)\n",
        "        # print(\"Conv2: \", x.shape)\n",
        "       \n",
        "        x = self.conv3(x)\n",
        "        x = self.relu3(x) \n",
        "        x = self.pool3(x)\n",
        "        x = self.batchNorm1(x)\n",
        "        x = self.dropOut3(x)\n",
        "        # print(\"Conv3: \", x.shape)\n",
        "       \n",
        "        x = self.conv4(x)\n",
        "        x = self.relu4(x)\n",
        "        # print(\"Conv4: \", x.shape) \n",
        "        x = self.pool4(x)\n",
        "        # x = self.batchNorm2(x)\n",
        "#         x = self.dropOut(x)\n",
        "        # print(\"Norm1: \", x.shape)\n",
        "\n",
        "#         x = self.conv5(x)\n",
        "#         x = self.relu5(x)\n",
        "#         x = self.pool5(x)\n",
        "#         x = self.batchNorm1(x)\n",
        "        \n",
        "        # print(\"Conv5: \", x.shape)\n",
        "        # x = self.conv6(x)\n",
        "        # x = self.relu6(x)\n",
        "        # x = self.pool6(x)\n",
        "#         x = self.batchNorm1(x)\n",
        "        # print(\"After conv:\", x.shape)\n",
        "        \n",
        "        x = x.view(-1,1*8*8)\n",
        "        x = self.fc1(x)\n",
        "        \n",
        "        x = self.outFn(x)\n",
        "        return x"
      ],
      "execution_count": 3,
      "outputs": []
    },
    {
      "cell_type": "code",
      "metadata": {
        "colab": {
          "base_uri": "https://localhost:8080/"
        },
        "id": "r1ONVthuuC7p",
        "outputId": "54ee78eb-fd4e-4666-f5b5-adb8c8b2e582"
      },
      "source": [
        "Path = \"drive/MyDrive/FML_Project/CleanedImages/\"\n",
        "testImages = np.load(Path + \"TestingImages.npy\") \n",
        "testLabels = np.load(Path + \"TestingLabels.npy\")[0]\n",
        "trainImages = np.load(Path + \"TrainingImages.npy\")\n",
        "trainLabels = np.load(Path + \"TrainingLabels.npy\")[0]\n",
        "trainImages, trainLabels = shuffle(trainImages, trainLabels, random_state=0)\n",
        "print(testImages.shape, trainImages.shape, testLabels.shape, trainLabels.shape)"
      ],
      "execution_count": 4,
      "outputs": [
        {
          "output_type": "stream",
          "text": [
            "(600, 200, 200, 3) (5679, 200, 200, 3) (600,) (5679,)\n"
          ],
          "name": "stdout"
        }
      ]
    },
    {
      "cell_type": "code",
      "metadata": {
        "colab": {
          "base_uri": "https://localhost:8080/"
        },
        "id": "56ny65kOxh0S",
        "outputId": "20bfc2fc-58c3-49e1-b826-107752fc8991"
      },
      "source": [
        "def getGrayScaleImages(images): \n",
        "    grayImages =[]\n",
        "    for image in images: \n",
        "        rgbImage = cv2.cvtColor(image,cv2.COLOR_BGR2RGB)\n",
        "        grayImage = cv2.cvtColor(rgbImage,cv2.COLOR_RGB2GRAY)\n",
        "        grayImages.append([grayImage])\n",
        "    return np.array(grayImages)\n",
        "grayTrainImages = getGrayScaleImages(trainImages)\n",
        "grayTestImages = getGrayScaleImages(testImages)\n",
        "print(grayTrainImages.shape)\n",
        "print(grayTestImages.shape)"
      ],
      "execution_count": 5,
      "outputs": [
        {
          "output_type": "stream",
          "text": [
            "(5679, 1, 200, 200)\n",
            "(600, 1, 200, 200)\n"
          ],
          "name": "stdout"
        }
      ]
    },
    {
      "cell_type": "code",
      "metadata": {
        "id": "Q3L5EuAFxnoS"
      },
      "source": [
        "model = SubClassModel() \n",
        "lossFn = nn.CrossEntropyLoss()\n",
        "optimizer = optim.Adam(model.parameters(), lr=0.001)\n",
        "\n",
        "def performEpoch(input_data, actual_output):\n",
        "    model.zero_grad()\n",
        "    # print(input_data.shape)\n",
        "    prediction_output=model.forward(input_data)\n",
        "    # print(prediction_output.shape)\n",
        "    # print(actual_output.shape)\n",
        "    # print(prediction_output)\n",
        "    loss = lossFn(prediction_output,actual_output)\n",
        "    loss.backward()\n",
        "    optimizer.step()\n",
        "    return prediction_output, loss"
      ],
      "execution_count": 6,
      "outputs": []
    },
    {
      "cell_type": "code",
      "metadata": {
        "id": "O2F-fqdcx1E2"
      },
      "source": [
        "tensoredImages = torch.tensor(grayTrainImages, dtype=torch.float32)\n",
        "tensoredLabels = torch.tensor(trainLabels-1, dtype=torch.long) \n",
        "tensoredtestImages = torch.tensor(grayTestImages, dtype=torch.float32)\n",
        "tensoredtestLabels = torch.tensor(trainLabels-1, dtype=torch.long) "
      ],
      "execution_count": 7,
      "outputs": []
    },
    {
      "cell_type": "code",
      "metadata": {
        "colab": {
          "base_uri": "https://localhost:8080/"
        },
        "id": "6xKgPtgGvqQx",
        "outputId": "d1c0e11f-e2f6-480c-e3bd-0fbc2b8eb8e7"
      },
      "source": [
        "device = torch.device('cuda' if torch.cuda.is_available() else 'cpu')\n",
        "print(device.type)\n",
        "if device.type == \"cuda\":\n",
        "    tensoredImages = tensoredImages.cuda()\n",
        "    tensoredLabels = tensoredLabels.cuda()\n",
        "    tensoredtestImages = tensoredtestImages.cuda()\n",
        "    tensoredtestLabels = tensoredtestLabels.cuda()\n",
        "    model = model.cuda()\n",
        "    lossFn = lossFn.cuda()"
      ],
      "execution_count": 8,
      "outputs": [
        {
          "output_type": "stream",
          "text": [
            "cuda\n"
          ],
          "name": "stdout"
        }
      ]
    },
    {
      "cell_type": "code",
      "metadata": {
        "colab": {
          "base_uri": "https://localhost:8080/"
        },
        "id": "29Nnq_gJy9QD",
        "outputId": "69f74cf0-100b-4cfc-a3d6-cefacd26b680"
      },
      "source": [
        "for epoch in range(100): \n",
        "    epoch_loss= 0 \n",
        "    for i in range(20, 5681, 20):\n",
        "        predicted_output, loss = performEpoch(tensoredImages[i-20:min(i,5679)], tensoredLabels[i-20:min(i,5679)]) \n",
        "        epoch_loss += loss \n",
        "#     logFile.write(\"Epoch: \"+ str(epoch) + \"; Epoch loss: \" + str(epoch_loss) + \"\\n\")\n",
        "    print(\"Epoch: \"+ str(epoch) + \"; Epoch loss: \" + str(epoch_loss))\n",
        "# logFile.close()\n",
        "torch.save(model, \"TrainedModelCNN\")\n",
        "torch.save(model, Path + \"TrainedModelCNNOptimistic\")"
      ],
      "execution_count": 9,
      "outputs": [
        {
          "output_type": "stream",
          "text": [
            "Epoch: 0; Epoch loss: tensor(307.8743, device='cuda:0', grad_fn=<AddBackward0>)\n",
            "Epoch: 1; Epoch loss: tensor(308.1456, device='cuda:0', grad_fn=<AddBackward0>)\n",
            "Epoch: 2; Epoch loss: tensor(307.1827, device='cuda:0', grad_fn=<AddBackward0>)\n",
            "Epoch: 3; Epoch loss: tensor(299.7833, device='cuda:0', grad_fn=<AddBackward0>)\n",
            "Epoch: 4; Epoch loss: tensor(294.9713, device='cuda:0', grad_fn=<AddBackward0>)\n",
            "Epoch: 5; Epoch loss: tensor(290.8351, device='cuda:0', grad_fn=<AddBackward0>)\n",
            "Epoch: 6; Epoch loss: tensor(287.2568, device='cuda:0', grad_fn=<AddBackward0>)\n",
            "Epoch: 7; Epoch loss: tensor(272.0703, device='cuda:0', grad_fn=<AddBackward0>)\n",
            "Epoch: 8; Epoch loss: tensor(264.4037, device='cuda:0', grad_fn=<AddBackward0>)\n",
            "Epoch: 9; Epoch loss: tensor(257.5373, device='cuda:0', grad_fn=<AddBackward0>)\n",
            "Epoch: 10; Epoch loss: tensor(252.6871, device='cuda:0', grad_fn=<AddBackward0>)\n",
            "Epoch: 11; Epoch loss: tensor(248.1357, device='cuda:0', grad_fn=<AddBackward0>)\n",
            "Epoch: 12; Epoch loss: tensor(246.1223, device='cuda:0', grad_fn=<AddBackward0>)\n",
            "Epoch: 13; Epoch loss: tensor(241.1279, device='cuda:0', grad_fn=<AddBackward0>)\n",
            "Epoch: 14; Epoch loss: tensor(240.8717, device='cuda:0', grad_fn=<AddBackward0>)\n",
            "Epoch: 15; Epoch loss: tensor(233.3938, device='cuda:0', grad_fn=<AddBackward0>)\n",
            "Epoch: 16; Epoch loss: tensor(230.4492, device='cuda:0', grad_fn=<AddBackward0>)\n",
            "Epoch: 17; Epoch loss: tensor(229.3211, device='cuda:0', grad_fn=<AddBackward0>)\n",
            "Epoch: 18; Epoch loss: tensor(225.4845, device='cuda:0', grad_fn=<AddBackward0>)\n",
            "Epoch: 19; Epoch loss: tensor(222.2715, device='cuda:0', grad_fn=<AddBackward0>)\n",
            "Epoch: 20; Epoch loss: tensor(221.3160, device='cuda:0', grad_fn=<AddBackward0>)\n",
            "Epoch: 21; Epoch loss: tensor(218.3088, device='cuda:0', grad_fn=<AddBackward0>)\n",
            "Epoch: 22; Epoch loss: tensor(216.0975, device='cuda:0', grad_fn=<AddBackward0>)\n",
            "Epoch: 23; Epoch loss: tensor(217.8212, device='cuda:0', grad_fn=<AddBackward0>)\n",
            "Epoch: 24; Epoch loss: tensor(215.2831, device='cuda:0', grad_fn=<AddBackward0>)\n",
            "Epoch: 25; Epoch loss: tensor(213.8541, device='cuda:0', grad_fn=<AddBackward0>)\n",
            "Epoch: 26; Epoch loss: tensor(211.1836, device='cuda:0', grad_fn=<AddBackward0>)\n",
            "Epoch: 27; Epoch loss: tensor(210.6934, device='cuda:0', grad_fn=<AddBackward0>)\n",
            "Epoch: 28; Epoch loss: tensor(210.2048, device='cuda:0', grad_fn=<AddBackward0>)\n",
            "Epoch: 29; Epoch loss: tensor(208.1455, device='cuda:0', grad_fn=<AddBackward0>)\n",
            "Epoch: 30; Epoch loss: tensor(209.1073, device='cuda:0', grad_fn=<AddBackward0>)\n",
            "Epoch: 31; Epoch loss: tensor(212.1640, device='cuda:0', grad_fn=<AddBackward0>)\n",
            "Epoch: 32; Epoch loss: tensor(209.5382, device='cuda:0', grad_fn=<AddBackward0>)\n",
            "Epoch: 33; Epoch loss: tensor(203.7640, device='cuda:0', grad_fn=<AddBackward0>)\n",
            "Epoch: 34; Epoch loss: tensor(203.9151, device='cuda:0', grad_fn=<AddBackward0>)\n",
            "Epoch: 35; Epoch loss: tensor(202.9059, device='cuda:0', grad_fn=<AddBackward0>)\n",
            "Epoch: 36; Epoch loss: tensor(201.7327, device='cuda:0', grad_fn=<AddBackward0>)\n",
            "Epoch: 37; Epoch loss: tensor(203.7007, device='cuda:0', grad_fn=<AddBackward0>)\n",
            "Epoch: 38; Epoch loss: tensor(203.6179, device='cuda:0', grad_fn=<AddBackward0>)\n",
            "Epoch: 39; Epoch loss: tensor(201.4038, device='cuda:0', grad_fn=<AddBackward0>)\n",
            "Epoch: 40; Epoch loss: tensor(198.9866, device='cuda:0', grad_fn=<AddBackward0>)\n",
            "Epoch: 41; Epoch loss: tensor(200.5879, device='cuda:0', grad_fn=<AddBackward0>)\n",
            "Epoch: 42; Epoch loss: tensor(198.3432, device='cuda:0', grad_fn=<AddBackward0>)\n",
            "Epoch: 43; Epoch loss: tensor(198.3468, device='cuda:0', grad_fn=<AddBackward0>)\n",
            "Epoch: 44; Epoch loss: tensor(200.5768, device='cuda:0', grad_fn=<AddBackward0>)\n",
            "Epoch: 45; Epoch loss: tensor(198.8034, device='cuda:0', grad_fn=<AddBackward0>)\n",
            "Epoch: 46; Epoch loss: tensor(195.5229, device='cuda:0', grad_fn=<AddBackward0>)\n",
            "Epoch: 47; Epoch loss: tensor(197.7255, device='cuda:0', grad_fn=<AddBackward0>)\n",
            "Epoch: 48; Epoch loss: tensor(197.3345, device='cuda:0', grad_fn=<AddBackward0>)\n",
            "Epoch: 49; Epoch loss: tensor(195.3913, device='cuda:0', grad_fn=<AddBackward0>)\n",
            "Epoch: 50; Epoch loss: tensor(194.9287, device='cuda:0', grad_fn=<AddBackward0>)\n",
            "Epoch: 51; Epoch loss: tensor(197.4855, device='cuda:0', grad_fn=<AddBackward0>)\n",
            "Epoch: 52; Epoch loss: tensor(192.0929, device='cuda:0', grad_fn=<AddBackward0>)\n",
            "Epoch: 53; Epoch loss: tensor(194.3491, device='cuda:0', grad_fn=<AddBackward0>)\n",
            "Epoch: 54; Epoch loss: tensor(191.6988, device='cuda:0', grad_fn=<AddBackward0>)\n",
            "Epoch: 55; Epoch loss: tensor(192.9840, device='cuda:0', grad_fn=<AddBackward0>)\n",
            "Epoch: 56; Epoch loss: tensor(192.5909, device='cuda:0', grad_fn=<AddBackward0>)\n",
            "Epoch: 57; Epoch loss: tensor(194.0717, device='cuda:0', grad_fn=<AddBackward0>)\n",
            "Epoch: 58; Epoch loss: tensor(191.1342, device='cuda:0', grad_fn=<AddBackward0>)\n",
            "Epoch: 59; Epoch loss: tensor(189.4175, device='cuda:0', grad_fn=<AddBackward0>)\n",
            "Epoch: 60; Epoch loss: tensor(192.8038, device='cuda:0', grad_fn=<AddBackward0>)\n",
            "Epoch: 61; Epoch loss: tensor(190.2926, device='cuda:0', grad_fn=<AddBackward0>)\n",
            "Epoch: 62; Epoch loss: tensor(191.9037, device='cuda:0', grad_fn=<AddBackward0>)\n",
            "Epoch: 63; Epoch loss: tensor(191.6320, device='cuda:0', grad_fn=<AddBackward0>)\n",
            "Epoch: 64; Epoch loss: tensor(190.3549, device='cuda:0', grad_fn=<AddBackward0>)\n",
            "Epoch: 65; Epoch loss: tensor(189.0681, device='cuda:0', grad_fn=<AddBackward0>)\n",
            "Epoch: 66; Epoch loss: tensor(191.5964, device='cuda:0', grad_fn=<AddBackward0>)\n",
            "Epoch: 67; Epoch loss: tensor(191.5712, device='cuda:0', grad_fn=<AddBackward0>)\n",
            "Epoch: 68; Epoch loss: tensor(188.7414, device='cuda:0', grad_fn=<AddBackward0>)\n",
            "Epoch: 69; Epoch loss: tensor(189.2465, device='cuda:0', grad_fn=<AddBackward0>)\n",
            "Epoch: 70; Epoch loss: tensor(188.1666, device='cuda:0', grad_fn=<AddBackward0>)\n",
            "Epoch: 71; Epoch loss: tensor(188.3659, device='cuda:0', grad_fn=<AddBackward0>)\n",
            "Epoch: 72; Epoch loss: tensor(188.7141, device='cuda:0', grad_fn=<AddBackward0>)\n",
            "Epoch: 73; Epoch loss: tensor(188.0514, device='cuda:0', grad_fn=<AddBackward0>)\n",
            "Epoch: 74; Epoch loss: tensor(187.7943, device='cuda:0', grad_fn=<AddBackward0>)\n",
            "Epoch: 75; Epoch loss: tensor(187.1323, device='cuda:0', grad_fn=<AddBackward0>)\n",
            "Epoch: 76; Epoch loss: tensor(188.0815, device='cuda:0', grad_fn=<AddBackward0>)\n",
            "Epoch: 77; Epoch loss: tensor(188.9654, device='cuda:0', grad_fn=<AddBackward0>)\n",
            "Epoch: 78; Epoch loss: tensor(187.3439, device='cuda:0', grad_fn=<AddBackward0>)\n",
            "Epoch: 79; Epoch loss: tensor(186.3521, device='cuda:0', grad_fn=<AddBackward0>)\n",
            "Epoch: 80; Epoch loss: tensor(189.6976, device='cuda:0', grad_fn=<AddBackward0>)\n",
            "Epoch: 81; Epoch loss: tensor(186.4177, device='cuda:0', grad_fn=<AddBackward0>)\n",
            "Epoch: 82; Epoch loss: tensor(188.6227, device='cuda:0', grad_fn=<AddBackward0>)\n",
            "Epoch: 83; Epoch loss: tensor(187.2350, device='cuda:0', grad_fn=<AddBackward0>)\n",
            "Epoch: 84; Epoch loss: tensor(185.7134, device='cuda:0', grad_fn=<AddBackward0>)\n",
            "Epoch: 85; Epoch loss: tensor(186.9814, device='cuda:0', grad_fn=<AddBackward0>)\n",
            "Epoch: 86; Epoch loss: tensor(187.5320, device='cuda:0', grad_fn=<AddBackward0>)\n",
            "Epoch: 87; Epoch loss: tensor(186.4552, device='cuda:0', grad_fn=<AddBackward0>)\n",
            "Epoch: 88; Epoch loss: tensor(186.4920, device='cuda:0', grad_fn=<AddBackward0>)\n",
            "Epoch: 89; Epoch loss: tensor(185.2636, device='cuda:0', grad_fn=<AddBackward0>)\n",
            "Epoch: 90; Epoch loss: tensor(185.0956, device='cuda:0', grad_fn=<AddBackward0>)\n",
            "Epoch: 91; Epoch loss: tensor(185.8334, device='cuda:0', grad_fn=<AddBackward0>)\n",
            "Epoch: 92; Epoch loss: tensor(183.1740, device='cuda:0', grad_fn=<AddBackward0>)\n",
            "Epoch: 93; Epoch loss: tensor(185.0144, device='cuda:0', grad_fn=<AddBackward0>)\n",
            "Epoch: 94; Epoch loss: tensor(184.1264, device='cuda:0', grad_fn=<AddBackward0>)\n",
            "Epoch: 95; Epoch loss: tensor(184.7865, device='cuda:0', grad_fn=<AddBackward0>)\n",
            "Epoch: 96; Epoch loss: tensor(182.7882, device='cuda:0', grad_fn=<AddBackward0>)\n",
            "Epoch: 97; Epoch loss: tensor(186.5097, device='cuda:0', grad_fn=<AddBackward0>)\n",
            "Epoch: 98; Epoch loss: tensor(183.6685, device='cuda:0', grad_fn=<AddBackward0>)\n",
            "Epoch: 99; Epoch loss: tensor(184.1137, device='cuda:0', grad_fn=<AddBackward0>)\n"
          ],
          "name": "stdout"
        }
      ]
    },
    {
      "cell_type": "code",
      "metadata": {
        "colab": {
          "base_uri": "https://localhost:8080/"
        },
        "id": "8u-ISjLg0gOI",
        "outputId": "6e25e60e-6c7f-4a6d-e1e9-6726137a23f9"
      },
      "source": [
        "predicted_output, loss = performEpoch(tensoredImages, tensoredLabels) \n",
        "print(loss)\n",
        "\n",
        "predictedLabels= np.array([np.argmax(prediction) for prediction in predicted_output.cpu().detach().numpy()]) \n",
        "cf = confusion_matrix(predictedLabels, trainLabels-1) \n",
        "print(cf)"
      ],
      "execution_count": 10,
      "outputs": [
        {
          "output_type": "stream",
          "text": [
            "tensor(0.6609, device='cuda:0', grad_fn=<NllLossBackward>)\n",
            "[[1142  167   63]\n",
            " [  64 1836   35]\n",
            " [ 199  105 2068]]\n"
          ],
          "name": "stdout"
        }
      ]
    },
    {
      "cell_type": "code",
      "metadata": {
        "colab": {
          "base_uri": "https://localhost:8080/"
        },
        "id": "OQW6f3u-QsRW",
        "outputId": "6ac9ae73-3b83-41b1-f1f4-3c303472318d"
      },
      "source": [
        "prediction = model(tensoredtestImages)\n",
        "print(prediction.shape)"
      ],
      "execution_count": 11,
      "outputs": [
        {
          "output_type": "stream",
          "text": [
            "torch.Size([600, 3])\n"
          ],
          "name": "stdout"
        }
      ]
    },
    {
      "cell_type": "code",
      "metadata": {
        "colab": {
          "base_uri": "https://localhost:8080/"
        },
        "id": "wsBHzyGFRRQB",
        "outputId": "fa0c02c4-20ba-4c04-fab9-28d845ecc849"
      },
      "source": [
        "from sklearn.metrics import accuracy_score\n",
        "predictedTestLabels= np.array([np.argmax(pred) for pred in prediction.cpu().detach().numpy()])  \n",
        "cf = confusion_matrix(predictedTestLabels, testLabels-1) \n",
        "print(cf)\n",
        "accuracy = accuracy_score(testLabels-1, predictedTestLabels)\n",
        "print(accuracy)"
      ],
      "execution_count": 12,
      "outputs": [
        {
          "output_type": "stream",
          "text": [
            "[[131  24  11]\n",
            " [ 20 164   3]\n",
            " [ 49  12 186]]\n",
            "0.8016666666666666\n"
          ],
          "name": "stdout"
        }
      ]
    },
    {
      "cell_type": "code",
      "metadata": {
        "id": "0oURS3F-ZZhs"
      },
      "source": [
        "for epoch in range(100): \n",
        "    epoch_loss= 0 \n",
        "    for i in range(20, 5681, 20):\n",
        "        predicted_output, loss = performEpoch(tensoredImages[i-20:min(i,5679)], tensoredLabels[i-20:min(i,5679)]) \n",
        "        epoch_loss += loss \n",
        "torch.save(model, Path + \"TrainedModelCNNOptimistic\")"
      ],
      "execution_count": null,
      "outputs": []
    }
  ]
}